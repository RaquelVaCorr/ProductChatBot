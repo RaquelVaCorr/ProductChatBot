{
 "cells": [
  {
   "cell_type": "code",
   "execution_count": 44,
   "metadata": {},
   "outputs": [],
   "source": [
    "import os\n",
    "from langchain.chat_models import ChatOpenAI\n",
    "from pdfquery import PDFQuery\n",
    "\n",
    "from langchain.schema import (\n",
    "    SystemMessage,\n",
    "    HumanMessage,\n",
    "    AIMessage\n",
    ")\n",
    "import json"
   ]
  },
  {
   "cell_type": "code",
   "execution_count": 45,
   "metadata": {},
   "outputs": [
    {
     "name": "stdout",
     "output_type": "stream",
     "text": [
      "['\"Kit x 2 Frozen de Disney: Gel para el Cabello 65 g, precio g $187,24 + Colonia 70 ml. Precio regular $44.800 (168391) 2 pts KIT X 2 $21.900\"', '\"Gel para el Cabello Frozen de Disney 65 g. Precio regular $24.900 (133996) 1 pt $13.900 Precio g $213,85\"', '\"Colonia Frozen de Disney 70 ml. Precio regular $19.900 (133993) 1 pt $12.900\"', '\"Cepillo Corona Diamantes Frozen de Disney: Plástico y nailon. Diseño con forma de corona con simulación de diamantes. Largo: 17.6 cm, ancho: 7.5 cm, alto: 2.5 cm. Peso: 44 g. Precio regular $34.900 (133122) 2 pts $22.900\"', '\"Shampoo 2 en 1 Frozen de Disney 200 ml. Precio regular $27.900 (133995) 1 pt $16.900 Precio ml $84,50\"', '\"Barrita Humectante Frozen de Disney 4.5 g. Precio regular $19.900 (133994) 1 pt $9.900\"', '\"Colonia Encanto de Disney 150 ml. Precio regular $25.900 (133669) 2 pts $18.900\"', '\"Shampoo 2 en 1 Encanto de Disney 200 ml. Precio regular $27.900 (133670) 1 pt $16.900 Precio ml $84,50\"', '\"Crema para Peinar Encanto de Disney 150 g. Precio regular $25.900 (133671) 1 pt $16.900 Precio g $112,67\"', '\"Colonia Minnie Mouse de Disney 150 ml. Precio regular $25.900 (139190) 2 pts $18.900\"', '\"Shampoo Minnie Mouse de Disney 200 ml. Precio regular $27.900 (139499) 1 pt $16.900 Precio ml $84,50\"', '\"Spray Desenredante Minnie Mouse de Disney 150 ml. Precio regular $27.900 (139500) 1 pt $16.900 Precio ml $112,67\"', '\"Crema para Peinar Mérida de Disney Princesa 150 g. Precio regular $25.900 (139193) 1 pt $16.900 Precio g $112,67\"', '\"Shampoo Disney Princesa 750 ml. Precio regular $32.900 (139498) 2 pts $26.900 Precio ml $35,87\"', '\"Spray Desenredante Moana de Disney Princesa 150 ml. Precio regular $27.900 (139497) 1 pt $16.900 Precio ml $112,67\"', '\"Colonias Disney Princesa 150 ml. Precio regular $25.900 / 2 pts (139188) Ariel, (139189) Blanca Nieves, (139191) Rapunzel\"', '\"Portacepillos Barbie: Plástico y 80 % polipropileno. Producto cerrado: largo: 4.7 cm, ancho: 4.5 cm, alto: 2 cm. Producto abierto: largo: 9.5 cm, ancho: 4.5 cm, alto: 1 cm. Diámetro chupa: 3 cm. Precio regular $26.900 (156894) 2 pts $18.900\"', '\"Set x 4 Vasos Barbie: 100 % polipropileno. Diámetro mayor: 7 cm. Diámetro menor: 5.5 cm. Alto: 10.5 cm. Precio regular $26.900 (155756) 2 pts $22.900\"', '\"Crema para Peinar Barbie 150 g. Precio regular $25.900 (133674) 1 pt $14.900 Precio g $99,33\"', '\"Colonia Barbie 150 ml. Precio regular $25.900 (133672) 1 pt $15.900\"', '\"Spray Desenredante Barbie 150 ml. Precio regular $27.900 (133673) 1 pt $14.900 Precio ml $99,33\"', '\"Kit x 2 Barbie: Colonia 150 ml + Spray Desenredante 150 ml, precio ml $93,00. Precio regular $53.800 (168390) 2 pts KIT X 2 $26.900\"', '\"Shampoo para Cabello y Cuerpo Spider-Man de Marvel 750 ml. Precio regular $32.900 (130607) 2 pts $26.900 Precio ml $35,87\"', '\"Colonia Spider-Man de Marvel 150 ml. Precio regular $25.900 (130608) 1 pt $15.900\"', '\"Gel para el Cabello Spider-Man de Marvel 100 g. Precio regular $24.900 (130609) 1 pt $13.900 Precio g $139,00\"', '\"Gafas de Sol para Niños: 75 % policarbonato, 25 % acetato. Largo: 13.5 cm, ancho: 12.8 cm, alto: 0.4 cm. Precio regular $31.900 (151633) 2 pts $24.900\"', '\"Colonia Avengers de Marvel 150 ml. Precio regular $25.900 (130575) 2 pts $18.900\"', '\"Shampoo 2 en 1 Avengers de Marvel 200 ml. Precio regular $27.900 (130576) 1 pt $16.900 Precio ml $84,50\"', '\"Gel para el Cabello Avengers de Marvel 100 g. Precio regular $24.900 (130577) 1 pt $15.900 Precio g $159,00\"', '\"Shampoo 2 en 1 Avon Universo 200 ml. Precio regular $24.900 (130596) 1 pt Precio ml $64,50\"', '\"Colonia para Niños Avon Universo 150 ml. Precio regular $19.900 (130595) 1 pt\"', '\"Kit x 2 Avon Universo: Shampoo 2 en 1 200 ml, precio ml $58,07 + Colonia para Niños 150 ml. Precio regular $44.800 (168392) 2 pts KIT X 2 $20.900\"', '\"Gel para el Cabello Avon Kids Safari 100 g. Precio regular $24.900 (130590) 1 pt $13.900 Precio g $139,00\"', '\"Shampoo 2 en 1 Avon Kids Safari 200 ml. Precio regular $24.900 (130589) 1 pt Precio ml $74,50\"', '\"Crema para Peinar Avon Kids Safari 150 g. Precio regular $22.900 (130588) 1 pt Precio g $99,33\"', '\"Spray Desenredante Avon Kids Safari 150 ml. Precio regular $24.900 (130597) 1 pt Precio ml $99,33\"', '\"Colonia para Niños Avon Kids Safari 150 ml. Precio regular $19.900 (130592) 1 pt\"', '\"Colonia para Niñas Avon Kids Safari 150 ml. Precio regular $19.900 (130591) 1 pt\"']\n"
     ]
    }
   ],
   "source": [
    "##immport data\n",
    "with open('productos.json', 'r') as file:\n",
    "    loaded_list = json.load(file)\n",
    "    print(loaded_list)"
   ]
  },
  {
   "cell_type": "code",
   "execution_count": 46,
   "metadata": {},
   "outputs": [],
   "source": [
    "# embed and index all data\n",
    "from pinecone import Pinecone\n",
    "from pinecone import ServerlessSpec\n",
    "\n",
    "# initialize connection to pinecone (get API key at app.pinecone.io)\n",
    "#api_key = os.getenv(\"PINECONE_API_KEY\") or \"YOUR_API_KEY\"\n",
    "\n",
    "# configure client\n",
    "pc = Pinecone(api_key= \"API-KEY\")\n",
    "\n",
    "spec = ServerlessSpec(\n",
    "    cloud=\"aws\", region=\"us-east-1\"\n",
    ")\n",
    "\n",
    "chat = ChatOpenAI(\n",
    "    openai_api_key=\"API-KEY\",\n",
    "    model='gpt-3.5-turbo'\n",
    ")"
   ]
  },
  {
   "cell_type": "code",
   "execution_count": 47,
   "metadata": {},
   "outputs": [
    {
     "data": {
      "text/plain": [
       "{'dimension': 1536,\n",
       " 'index_fullness': 0.0,\n",
       " 'namespaces': {'': {'vector_count': 38}},\n",
       " 'total_vector_count': 38}"
      ]
     },
     "execution_count": 47,
     "metadata": {},
     "output_type": "execute_result"
    }
   ],
   "source": [
    "import time\n",
    "\n",
    "index_name = 'llama-2-rag'\n",
    "existing_indexes = [\n",
    "    index_info[\"name\"] for index_info in pc.list_indexes()\n",
    "]\n",
    "\n",
    "# check if index already exists (it shouldn't if this is first time)\n",
    "if index_name not in existing_indexes:\n",
    "    # if does not exist, create index\n",
    "    pc.create_index(\n",
    "        index_name,\n",
    "        dimension=1536,  # dimensionality of ada 002\n",
    "        metric='dotproduct',\n",
    "        spec=spec\n",
    "    )\n",
    "    # wait for index to be initialized\n",
    "    while not pc.describe_index(index_name).status['ready']:\n",
    "        time.sleep(1)\n",
    "\n",
    "# connect to index\n",
    "index = pc.Index(index_name)\n",
    "time.sleep(1)\n",
    "# view index stats\n",
    "index.describe_index_stats()"
   ]
  },
  {
   "cell_type": "code",
   "execution_count": 48,
   "metadata": {},
   "outputs": [
    {
     "data": {
      "application/vnd.jupyter.widget-view+json": {
       "model_id": "d3d3ad00b4494831869e940e0bd71de5",
       "version_major": 2,
       "version_minor": 0
      },
      "text/plain": [
       "  0%|          | 0/1 [00:00<?, ?it/s]"
      ]
     },
     "metadata": {},
     "output_type": "display_data"
    },
    {
     "name": "stdout",
     "output_type": "stream",
     "text": [
      "[{'text': '\"Kit x 2 Frozen de Disney: Gel para el Cabello 65 g, precio g $187,24 + Colonia 70 ml. Precio regular $44.800 (168391) 2 pts KIT X 2 $21.900\"'}, {'text': '\"Gel para el Cabello Frozen de Disney 65 g. Precio regular $24.900 (133996) 1 pt $13.900 Precio g $213,85\"'}, {'text': '\"Colonia Frozen de Disney 70 ml. Precio regular $19.900 (133993) 1 pt $12.900\"'}, {'text': '\"Cepillo Corona Diamantes Frozen de Disney: Plástico y nailon. Diseño con forma de corona con simulación de diamantes. Largo: 17.6 cm, ancho: 7.5 cm, alto: 2.5 cm. Peso: 44 g. Precio regular $34.900 (133122) 2 pts $22.900\"'}, {'text': '\"Shampoo 2 en 1 Frozen de Disney 200 ml. Precio regular $27.900 (133995) 1 pt $16.900 Precio ml $84,50\"'}, {'text': '\"Barrita Humectante Frozen de Disney 4.5 g. Precio regular $19.900 (133994) 1 pt $9.900\"'}, {'text': '\"Colonia Encanto de Disney 150 ml. Precio regular $25.900 (133669) 2 pts $18.900\"'}, {'text': '\"Shampoo 2 en 1 Encanto de Disney 200 ml. Precio regular $27.900 (133670) 1 pt $16.900 Precio ml $84,50\"'}, {'text': '\"Crema para Peinar Encanto de Disney 150 g. Precio regular $25.900 (133671) 1 pt $16.900 Precio g $112,67\"'}, {'text': '\"Colonia Minnie Mouse de Disney 150 ml. Precio regular $25.900 (139190) 2 pts $18.900\"'}, {'text': '\"Shampoo Minnie Mouse de Disney 200 ml. Precio regular $27.900 (139499) 1 pt $16.900 Precio ml $84,50\"'}, {'text': '\"Spray Desenredante Minnie Mouse de Disney 150 ml. Precio regular $27.900 (139500) 1 pt $16.900 Precio ml $112,67\"'}, {'text': '\"Crema para Peinar Mérida de Disney Princesa 150 g. Precio regular $25.900 (139193) 1 pt $16.900 Precio g $112,67\"'}, {'text': '\"Shampoo Disney Princesa 750 ml. Precio regular $32.900 (139498) 2 pts $26.900 Precio ml $35,87\"'}, {'text': '\"Spray Desenredante Moana de Disney Princesa 150 ml. Precio regular $27.900 (139497) 1 pt $16.900 Precio ml $112,67\"'}, {'text': '\"Colonias Disney Princesa 150 ml. Precio regular $25.900 / 2 pts (139188) Ariel, (139189) Blanca Nieves, (139191) Rapunzel\"'}, {'text': '\"Portacepillos Barbie: Plástico y 80 % polipropileno. Producto cerrado: largo: 4.7 cm, ancho: 4.5 cm, alto: 2 cm. Producto abierto: largo: 9.5 cm, ancho: 4.5 cm, alto: 1 cm. Diámetro chupa: 3 cm. Precio regular $26.900 (156894) 2 pts $18.900\"'}, {'text': '\"Set x 4 Vasos Barbie: 100 % polipropileno. Diámetro mayor: 7 cm. Diámetro menor: 5.5 cm. Alto: 10.5 cm. Precio regular $26.900 (155756) 2 pts $22.900\"'}, {'text': '\"Crema para Peinar Barbie 150 g. Precio regular $25.900 (133674) 1 pt $14.900 Precio g $99,33\"'}, {'text': '\"Colonia Barbie 150 ml. Precio regular $25.900 (133672) 1 pt $15.900\"'}, {'text': '\"Spray Desenredante Barbie 150 ml. Precio regular $27.900 (133673) 1 pt $14.900 Precio ml $99,33\"'}, {'text': '\"Kit x 2 Barbie: Colonia 150 ml + Spray Desenredante 150 ml, precio ml $93,00. Precio regular $53.800 (168390) 2 pts KIT X 2 $26.900\"'}, {'text': '\"Shampoo para Cabello y Cuerpo Spider-Man de Marvel 750 ml. Precio regular $32.900 (130607) 2 pts $26.900 Precio ml $35,87\"'}, {'text': '\"Colonia Spider-Man de Marvel 150 ml. Precio regular $25.900 (130608) 1 pt $15.900\"'}, {'text': '\"Gel para el Cabello Spider-Man de Marvel 100 g. Precio regular $24.900 (130609) 1 pt $13.900 Precio g $139,00\"'}, {'text': '\"Gafas de Sol para Niños: 75 % policarbonato, 25 % acetato. Largo: 13.5 cm, ancho: 12.8 cm, alto: 0.4 cm. Precio regular $31.900 (151633) 2 pts $24.900\"'}, {'text': '\"Colonia Avengers de Marvel 150 ml. Precio regular $25.900 (130575) 2 pts $18.900\"'}, {'text': '\"Shampoo 2 en 1 Avengers de Marvel 200 ml. Precio regular $27.900 (130576) 1 pt $16.900 Precio ml $84,50\"'}, {'text': '\"Gel para el Cabello Avengers de Marvel 100 g. Precio regular $24.900 (130577) 1 pt $15.900 Precio g $159,00\"'}, {'text': '\"Shampoo 2 en 1 Avon Universo 200 ml. Precio regular $24.900 (130596) 1 pt Precio ml $64,50\"'}, {'text': '\"Colonia para Niños Avon Universo 150 ml. Precio regular $19.900 (130595) 1 pt\"'}, {'text': '\"Kit x 2 Avon Universo: Shampoo 2 en 1 200 ml, precio ml $58,07 + Colonia para Niños 150 ml. Precio regular $44.800 (168392) 2 pts KIT X 2 $20.900\"'}, {'text': '\"Gel para el Cabello Avon Kids Safari 100 g. Precio regular $24.900 (130590) 1 pt $13.900 Precio g $139,00\"'}, {'text': '\"Shampoo 2 en 1 Avon Kids Safari 200 ml. Precio regular $24.900 (130589) 1 pt Precio ml $74,50\"'}, {'text': '\"Crema para Peinar Avon Kids Safari 150 g. Precio regular $22.900 (130588) 1 pt Precio g $99,33\"'}, {'text': '\"Spray Desenredante Avon Kids Safari 150 ml. Precio regular $24.900 (130597) 1 pt Precio ml $99,33\"'}, {'text': '\"Colonia para Niños Avon Kids Safari 150 ml. Precio regular $19.900 (130592) 1 pt\"'}, {'text': '\"Colonia para Niñas Avon Kids Safari 150 ml. Precio regular $19.900 (130591) 1 pt\"'}]\n"
     ]
    }
   ],
   "source": [
    "from langchain.embeddings.openai import OpenAIEmbeddings\n",
    "\n",
    "embed_model = OpenAIEmbeddings(model=\"text-embedding-ada-002\") ##use this model to create embeddings \n",
    "\n",
    "##create embedding for the dataset\n",
    "from tqdm.auto import tqdm  # for progress bar\n",
    "\n",
    "batch_size = 100\n",
    "\n",
    "for i in tqdm(range(0, len(loaded_list), batch_size)):\n",
    "    i_end = min(len(loaded_list), i+batch_size)\n",
    "    # get batch of data\n",
    "    batch = loaded_list[i:i_end]\n",
    "    # generate unique ids for each chunk\n",
    "    ids = list(range(i,i_end))\n",
    "    # Convert the list of integers to a list of strings\n",
    "    ids_str = [str(id) for id in ids]\n",
    "    # embed text\n",
    "    embeds = embed_model.embed_documents(batch)\n",
    "\n",
    "    #metadata\n",
    "    metadata = [{'text': x } for x in batch]\n",
    "    print(metadata)\n",
    "    # add to Pinecone\n",
    "    index.upsert(vectors=zip(ids_str, embeds, metadata))\n"
   ]
  },
  {
   "cell_type": "code",
   "execution_count": 49,
   "metadata": {},
   "outputs": [
    {
     "data": {
      "text/plain": [
       "{'dimension': 1536,\n",
       " 'index_fullness': 0.0,\n",
       " 'namespaces': {'': {'vector_count': 38}},\n",
       " 'total_vector_count': 38}"
      ]
     },
     "execution_count": 49,
     "metadata": {},
     "output_type": "execute_result"
    }
   ],
   "source": [
    "index.describe_index_stats()"
   ]
  },
  {
   "cell_type": "code",
   "execution_count": 50,
   "metadata": {},
   "outputs": [
    {
     "name": "stderr",
     "output_type": "stream",
     "text": [
      "c:\\Users\\diego\\AppData\\Local\\Programs\\Python\\Python312\\Lib\\site-packages\\langchain_community\\vectorstores\\pinecone.py:68: UserWarning: Passing in `embedding` as a Callable is deprecated. Please pass in an Embeddings object instead.\n",
      "  warnings.warn(\n"
     ]
    }
   ],
   "source": [
    "# Retrieval Augmented Generation\n",
    "\n",
    "from langchain.vectorstores import Pinecone\n",
    "\n",
    "text_field = \"text\"  # the metadata field that contains our text\n",
    "\n",
    "# initialize the vector store object\n",
    "vectorstore = Pinecone(\n",
    "    index, embed_model.embed_query, text_field\n",
    ")"
   ]
  },
  {
   "cell_type": "code",
   "execution_count": 60,
   "metadata": {},
   "outputs": [
    {
     "data": {
      "text/plain": [
       "[Document(page_content='\"Colonia Encanto de Disney 150 ml. Precio regular $25.900 (133669) 2 pts $18.900\"'),\n",
       " Document(page_content='\"Colonias Disney Princesa 150 ml. Precio regular $25.900 / 2 pts (139188) Ariel, (139189) Blanca Nieves, (139191) Rapunzel\"'),\n",
       " Document(page_content='\"Colonia para Niños Avon Universo 150 ml. Precio regular $19.900 (130595) 1 pt\"'),\n",
       " Document(page_content='\"Crema para Peinar Encanto de Disney 150 g. Precio regular $25.900 (133671) 1 pt $16.900 Precio g $112,67\"'),\n",
       " Document(page_content='\"Gel para el Cabello Frozen de Disney 65 g. Precio regular $24.900 (133996) 1 pt $13.900 Precio g $213,85\"')]"
      ]
     },
     "execution_count": 60,
     "metadata": {},
     "output_type": "execute_result"
    }
   ],
   "source": [
    "query = \"geles\"\n",
    "\n",
    "vectorstore.similarity_search(query, k=5)"
   ]
  },
  {
   "cell_type": "code",
   "execution_count": 57,
   "metadata": {},
   "outputs": [],
   "source": [
    "def augment_prompt(query: str):\n",
    "    # get top 3 results from knowledge base\n",
    "    results = vectorstore.similarity_search(query, k=5)\n",
    "    # get the text from the results\n",
    "    source_knowledge = \"\\n\".join([x.page_content for x in results])\n",
    "    # feed into an augmented prompt\n",
    "    augmented_prompt = f\"\"\"\n",
    "    Usando los contextos a continuación, responde la consulta. Todas las preguntas deben ser sobre productos, precios y descuentos en el contexto, o productos para baño y aseo. \n",
    "\n",
    "    Contextos:\n",
    "    {source_knowledge}\n",
    "\n",
    "    Consulta: {query}\n",
    "    \"\"\"\n",
    "\n",
    "    return augmented_prompt"
   ]
  },
  {
   "cell_type": "code",
   "execution_count": 63,
   "metadata": {},
   "outputs": [
    {
     "name": "stdout",
     "output_type": "stream",
     "text": [
      "Sí, tenemos colonias para niños Avon Universo y Avon Kids Safari de 150 ml a un precio regular de $19.900.\n"
     ]
    }
   ],
   "source": [
    "query = 'tienes productos por menos de $20.000?'\n",
    "# create a new user prompt\n",
    "prompt = HumanMessage(\n",
    "    content=augment_prompt(query)\n",
    ")\n",
    "# add to messages\n",
    "messages = [\n",
    "    #SystemMessage(content=\"You are a helpful assistant.\"),\n",
    "    prompt\n",
    "    #HumanMessage(content=prompt)\n",
    "]\n",
    "\n",
    "res = chat(messages)\n",
    "\n",
    "print(res.content)"
   ]
  },
  {
   "cell_type": "code",
   "execution_count": 62,
   "metadata": {},
   "outputs": [
    {
     "name": "stdout",
     "output_type": "stream",
     "text": [
      "Tenemos disponibles los siguientes geles:\n",
      "1. Gel para el Cabello Frozen de Disney 65 g. Precio regular $24.900 (133996) 1 pt $13.900 Precio g $213,85\n",
      "2. Gel para el Cabello Avengers de Marvel 100 g. Precio regular $24.900 (130577) 1 pt $15.900 Precio g $159,00\n",
      "3. Gel para el Cabello Spider-Man de Marvel 100 g. Precio regular $24.900 (130609) 1 pt $13.900 Precio g $139,00\n"
     ]
    }
   ],
   "source": [
    "query = 'que geles tienes?'\n",
    "# create a new user prompt\n",
    "prompt = HumanMessage(\n",
    "    content=augment_prompt(query)\n",
    ")\n",
    "# add to messages\n",
    "messages = [\n",
    "    #SystemMessage(content=\"You are a helpful assistant.\"),\n",
    "    prompt\n",
    "    #HumanMessage(content=prompt)\n",
    "]\n",
    "\n",
    "res = chat(messages)\n",
    "\n",
    "print(res.content)"
   ]
  },
  {
   "cell_type": "code",
   "execution_count": 38,
   "metadata": {},
   "outputs": [
    {
     "name": "stdout",
     "output_type": "stream",
     "text": [
      "Lo siento, no tengo información sobre la historia de Colombia. ¿Tienes alguna otra pregunta relacionada con productos, precios o descuentos?\n"
     ]
    }
   ],
   "source": [
    "query = 'sabes sobre la historia de Colombia?'\n",
    "# create a new user prompt\n",
    "prompt = HumanMessage(\n",
    "    content=augment_prompt(query)\n",
    ")\n",
    "# add to messages\n",
    "messages = [\n",
    "    #SystemMessage(content=\"You are a helpful assistant.\"),\n",
    "    prompt\n",
    "    #HumanMessage(content=prompt)\n",
    "]\n",
    "\n",
    "res = chat(messages)\n",
    "\n",
    "print(res.content)"
   ]
  },
  {
   "cell_type": "code",
   "execution_count": 39,
   "metadata": {},
   "outputs": [
    {
     "name": "stdout",
     "output_type": "stream",
     "text": [
      "Lo siento, esa pregunta no está relacionada con los contextos proporcionados. ¿Tienes alguna otra pregunta sobre productos, precios y descuentos en el contexto, o productos para baño y aseo personas?\n"
     ]
    }
   ],
   "source": [
    "query = 'Quien escribio el libro \"El Tunel\"'\n",
    "# create a new user prompt\n",
    "prompt = HumanMessage(\n",
    "    content=augment_prompt(query)\n",
    ")\n",
    "# add to messages\n",
    "messages = [\n",
    "    #SystemMessage(content=\"You are a helpful assistant.\"),\n",
    "    prompt\n",
    "    #HumanMessage(content=prompt)\n",
    "]\n",
    "\n",
    "res = chat(messages)\n",
    "\n",
    "print(res.content)"
   ]
  },
  {
   "cell_type": "code",
   "execution_count": 55,
   "metadata": {},
   "outputs": [
    {
     "name": "stdout",
     "output_type": "stream",
     "text": [
      "Tenemos diferentes opciones para el cabello, como la Crema para Peinar Barbie, el Gel para el Cabello Avon Kids Safari, el Gel para el Cabello Avengers de Marvel, el Gel para el Cabello Spider-Man de Marvel y la Crema para Peinar Mérida de Disney Princesa. ¿Te interesa alguno en particular?\n"
     ]
    }
   ],
   "source": [
    "query = 'que tienes para el cabello'\n",
    "# create a new user prompt\n",
    "prompt = HumanMessage(\n",
    "    content=augment_prompt(query)\n",
    ")\n",
    "# add to messages\n",
    "messages = [\n",
    "    #SystemMessage(content=\"You are a helpful assistant.\"),\n",
    "    prompt\n",
    "    #HumanMessage(content=prompt)\n",
    "]\n",
    "\n",
    "res = chat(messages)\n",
    "\n",
    "print(res.content)"
   ]
  },
  {
   "cell_type": "code",
   "execution_count": 64,
   "metadata": {},
   "outputs": [
    {
     "name": "stdout",
     "output_type": "stream",
     "text": [
      "Lo siento, en este contexto solo tenemos información sobre cremas para peinar y colonias para niños. No disponemos de información sobre cremas para el cuerpo en este momento. ¿Hay algo más en lo que pueda ayudarte?\n"
     ]
    }
   ],
   "source": [
    "query = 'tienes cremas para el cuerpo'\n",
    "# create a new user prompt\n",
    "prompt = HumanMessage(\n",
    "    content=augment_prompt(query)\n",
    ")\n",
    "# add to messages\n",
    "messages = [\n",
    "    #SystemMessage(content=\"You are a helpful assistant.\"),\n",
    "    prompt\n",
    "    #HumanMessage(content=prompt)\n",
    "]\n",
    "\n",
    "res = chat(messages)\n",
    "\n",
    "print(res.content)"
   ]
  }
 ],
 "metadata": {
  "kernelspec": {
   "display_name": "Python 3",
   "language": "python",
   "name": "python3"
  },
  "language_info": {
   "codemirror_mode": {
    "name": "ipython",
    "version": 3
   },
   "file_extension": ".py",
   "mimetype": "text/x-python",
   "name": "python",
   "nbconvert_exporter": "python",
   "pygments_lexer": "ipython3",
   "version": "3.12.1"
  }
 },
 "nbformat": 4,
 "nbformat_minor": 2
}
